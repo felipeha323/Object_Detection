{
 "cells": [
  {
   "cell_type": "markdown",
   "id": "87699e72",
   "metadata": {},
   "source": [
    "# Importación de librerias necesarias"
   ]
  },
  {
   "cell_type": "code",
   "execution_count": null,
   "id": "9de57b56",
   "metadata": {},
   "outputs": [],
   "source": [
    "from IPython.display import Video\n",
    "from ipywidgets import Video, Image\n",
    "import os\n",
    "import threading\n",
    "import time"
   ]
  },
  {
   "cell_type": "code",
   "execution_count": null,
   "id": "756613a7",
   "metadata": {},
   "outputs": [],
   "source": [
    "def convertmp4(rut):\n",
    "    rut1 = rut+\".avi\"\n",
    "    rut2 = rut + \".mp4\"\n",
    "    file_path = rut1\n",
    "    \n",
    "    !ffmpeg -i {rut1} {rut2} #se cambia de .avi a mp4\n",
    "    os.remove(file_path)     #borramos el .avi\n",
    "    print(\"el video ya esta preparado en la ruta: \"+ rut2)\n",
    "    \n",
    "    return rut2"
   ]
  },
  {
   "cell_type": "code",
   "execution_count": null,
   "id": "b483e67d",
   "metadata": {},
   "outputs": [],
   "source": [
    "def extencion(rut):\n",
    "    \n",
    "    for i in range(6):\n",
    "    \n",
    "        convertmp4(rut+str(i+1)) # se envian las rutas de los videos para cambiar la extención\n"
   ]
  },
  {
   "cell_type": "code",
   "execution_count": null,
   "id": "a72840ee",
   "metadata": {},
   "outputs": [],
   "source": [
    "def show_display():\n",
    "    \n",
    "    \n",
    "    for i in range(6):\n",
    "        \n",
    "        video = Video.from_file(\"Videos/C\"+str(i+1)+\".mp4\") #buscamos en los videos previamente transformados\n",
    "        print(\"video \"+ str(i+1))\n",
    "        display(video)  #mostramos el resultado de los videos "
   ]
  },
  {
   "cell_type": "code",
   "execution_count": null,
   "id": "ca4fd11c",
   "metadata": {},
   "outputs": [],
   "source": [
    "def detect1():\n",
    "    #esta funcion nos manda 2 videos que seran asignados a un hilo\n",
    "    print('Inicio Hilo 1') \n",
    "    !python detect.py --weights yolov5l.pt --source Videos/C1.mp4 \n",
    "    !python detect.py --weights yolov5l.pt --source Videos/C2.mp4 \n",
    "    time.sleep(5)\n",
    "    print('Fin Hilo 1 ') \n",
    "    \n",
    "    \n",
    "def detect2():\n",
    "    #esta funcion nos manda 2 videos que seran asignados a un hilo\n",
    "    print('Inicio Hilo 2') \n",
    "    !python detect.py --weights yolov5l.pt --source Videos/C3.mp4 \n",
    "    !python detect.py --weights yolov5l.pt --source Videos/C4.mp4 \n",
    "    time.sleep(5)\n",
    "    print('Fin Hilo 2 ') \n",
    "    \n",
    "    \n",
    "def detect3():\n",
    "    #esta funcion nos manda 2 videos que seran asignados a un hilo\n",
    "    print('Inicio Hilo 3') \n",
    "    !python detect.py --weights yolov5l.pt --source Videos/C5.mp4 \n",
    "    !python detect.py --weights yolov5l.pt --source Videos/C6.mp4 \n",
    "    time.sleep(5)\n",
    "    print('Fin Hilo 3 ') "
   ]
  },
  {
   "cell_type": "markdown",
   "id": "df4c7c2a",
   "metadata": {},
   "source": [
    "En este caso al ejecutar el modelo en 3 hilos diferentes no nos da una salida en orden por lo que se buscan atra ves de exp los videos de resultado el contenido de cada carpeta para tomar su ruta y ser enviado a cambiarle la extencion a mp4"
   ]
  },
  {
   "cell_type": "code",
   "execution_count": null,
   "id": "e423e960",
   "metadata": {},
   "outputs": [],
   "source": [
    "def extencion1():\n",
    "    \n",
    "    for i in range(6):\n",
    "        \n",
    "        if i ==0:\n",
    "            file=\"runs/detect/exp/\" #buscamos en la ruta de las salida de los videos \n",
    "            aux= file\n",
    "            dirs = os.listdir(file)\n",
    "\n",
    "            for file in dirs:\n",
    "                print(file)\n",
    "                character=\".avi\"\n",
    "                for i in range(len(character)): #quitamos el .avi para poder enviar la ruta requerida para el cambio de forato\n",
    "                    file= file.replace(character[i],\"\") \n",
    "\n",
    "                file=aux+file\n",
    "                print(file)\n",
    "                convertmp4(file)\n",
    "        elif i!=0:\n",
    "            \n",
    "            file=\"runs/detect/exp\"+str(i+1)+\"/\" #buscamos en la ruta con exp+ # que guarda salida de videos\n",
    "            aux= file\n",
    "            dirs = os.listdir(file)\n",
    "\n",
    "            for file in dirs:\n",
    "                print(file)\n",
    "                character=\".avi\"\n",
    "                for i in range(len(character)): #quitamos el .avi para poder enviar la ruta requerida para el cambio de forato\n",
    "                    file= file.replace(character[i],\"\")\n",
    "\n",
    "                file=aux+file\n",
    "                print(file)\n",
    "                convertmp4(file)\n",
    "\n"
   ]
  },
  {
   "cell_type": "markdown",
   "id": "b2756322",
   "metadata": {},
   "source": [
    "Buscamos a traves de las rutas de salidas que videos tienen dentro para ser mostrados a continuacion "
   ]
  },
  {
   "cell_type": "code",
   "execution_count": null,
   "id": "dedb2678",
   "metadata": {},
   "outputs": [],
   "source": [
    "def show_detect():\n",
    "    \n",
    "    for i in range(6):\n",
    "        \n",
    "        if i ==0:\n",
    "            file=\"runs/detect/exp/\" \n",
    "            aux= file\n",
    "            dirs = os.listdir(file)\n",
    "\n",
    "            for file in dirs: #buscamos que videos contiene la carpeta para mostrarlos\n",
    "                print(file)\n",
    "                file=aux+file\n",
    "                video = Video.from_file(file)\n",
    "                display(video)\n",
    "        elif i!=0:\n",
    "            \n",
    "            file=\"runs/detect/exp\"+str(i+1)+\"/\"\n",
    "            aux= file\n",
    "            dirs = os.listdir(file)\n",
    "\n",
    "            for file in dirs:  #buscamos que videos contiene la carpeta para mostrarlos\n",
    "                print(file)\n",
    "                file=aux+file\n",
    "                video = Video.from_file(file)\n",
    "                display(video)\n"
   ]
  },
  {
   "cell_type": "markdown",
   "id": "4014a48a",
   "metadata": {},
   "source": [
    "# Ejecución\n",
    "\n",
    "En este punto realizamos la ejecucion de la carga de los video .avi para pasarlos a mp4 y previamente ser visualizados"
   ]
  },
  {
   "cell_type": "code",
   "execution_count": null,
   "id": "3b216679",
   "metadata": {},
   "outputs": [],
   "source": [
    "#Se envia la carpeta de videos para ser cambiados de extencion\n",
    "extencion('Videos/C')"
   ]
  },
  {
   "cell_type": "code",
   "execution_count": null,
   "id": "8588fc9a",
   "metadata": {},
   "outputs": [],
   "source": [
    "#se le hace la llamada al display para mostrar los videos en formato mp4\n",
    "show_display()"
   ]
  },
  {
   "cell_type": "markdown",
   "id": "77afd634",
   "metadata": {},
   "source": [
    "### Ejecuciones despues de la deteccion \n",
    "\n",
    "Se hace la ejecución del modelo de YOLOv5 en 3 hilos con el fin de acelerar la ejecución al igual que el cambio de extencion para ser mostrados en formato mp4"
   ]
  },
  {
   "cell_type": "code",
   "execution_count": null,
   "id": "0cc1b3bd",
   "metadata": {},
   "outputs": [],
   "source": [
    "#creamos 3 hilos para ejecutar el modelo por pideo de manera mas rapida\n",
    "%%time\n",
    "hilo1 = threading.Thread(target=detect1)\n",
    "hilo2 = threading.Thread(target=detect2)\n",
    "hilo3 = threading.Thread(target=detect3)\n",
    "\n",
    "hilo1.start()\n",
    "hilo2.start()\n",
    "hilo3.start()\n",
    "\n",
    "hilo1.join()\n",
    "hilo2.join()\n",
    "hilo3.join()"
   ]
  },
  {
   "cell_type": "code",
   "execution_count": null,
   "id": "9ebb3f23",
   "metadata": {},
   "outputs": [],
   "source": [
    "#enviamos los videos .avi para ser cambiados a mp4\n",
    "extencion1()"
   ]
  },
  {
   "cell_type": "code",
   "execution_count": null,
   "id": "d609f772",
   "metadata": {},
   "outputs": [],
   "source": [
    "#mostramos el resultado de la deteccion de objetos \n",
    "show_detect()"
   ]
  },
  {
   "cell_type": "markdown",
   "id": "dff538b7",
   "metadata": {},
   "source": [
    "Si se desea ejecutar el algoritmo desde 0 se deben borrar las campetas de las salidas que se encuentran en la direccion : runs/detect/ "
   ]
  },
  {
   "cell_type": "code",
   "execution_count": null,
   "id": "a459fcef",
   "metadata": {},
   "outputs": [],
   "source": []
  }
 ],
 "metadata": {
  "kernelspec": {
   "display_name": "Python 3 (ipykernel)",
   "language": "python",
   "name": "python3"
  },
  "language_info": {
   "codemirror_mode": {
    "name": "ipython",
    "version": 3
   },
   "file_extension": ".py",
   "mimetype": "text/x-python",
   "name": "python",
   "nbconvert_exporter": "python",
   "pygments_lexer": "ipython3",
   "version": "3.8.13"
  }
 },
 "nbformat": 4,
 "nbformat_minor": 5
}
